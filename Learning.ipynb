{
 "cells": [
  {
   "cell_type": "code",
   "execution_count": 1,
   "id": "687a71fd-dd2d-462b-aaa9-f1a785a652c8",
   "metadata": {},
   "outputs": [],
   "source": [
    "# Type of numbers "
   ]
  },
  {
   "cell_type": "code",
   "execution_count": 2,
   "id": "e2bcb2a3-2ea6-4aaf-aec8-33598968124a",
   "metadata": {},
   "outputs": [],
   "source": [
    "x = 15\n",
    "y = 15.14\n",
    "z = \"Tom\""
   ]
  },
  {
   "cell_type": "code",
   "execution_count": 3,
   "id": "153c855e-ef52-4387-bc16-90025b4fd517",
   "metadata": {},
   "outputs": [
    {
     "data": {
      "text/plain": [
       "int"
      ]
     },
     "execution_count": 3,
     "metadata": {},
     "output_type": "execute_result"
    }
   ],
   "source": [
    "type(x)"
   ]
  },
  {
   "cell_type": "code",
   "execution_count": 4,
   "id": "7fdbdffc-e820-45e1-b3bf-012d02464e88",
   "metadata": {},
   "outputs": [
    {
     "data": {
      "text/plain": [
       "float"
      ]
     },
     "execution_count": 4,
     "metadata": {},
     "output_type": "execute_result"
    }
   ],
   "source": [
    "type(y)"
   ]
  },
  {
   "cell_type": "code",
   "execution_count": 5,
   "id": "30cf71b5-32d3-492f-ab3a-dee37c2df36f",
   "metadata": {},
   "outputs": [
    {
     "data": {
      "text/plain": [
       "str"
      ]
     },
     "execution_count": 5,
     "metadata": {},
     "output_type": "execute_result"
    }
   ],
   "source": [
    "type(z)"
   ]
  },
  {
   "cell_type": "code",
   "execution_count": 6,
   "id": "0f1505a7-ce9c-4bb8-8870-386e0bd077da",
   "metadata": {},
   "outputs": [
    {
     "data": {
      "text/plain": [
       "str"
      ]
     },
     "execution_count": 6,
     "metadata": {},
     "output_type": "execute_result"
    }
   ],
   "source": [
    "x = \"15\"\n",
    "type(x)"
   ]
  },
  {
   "cell_type": "code",
   "execution_count": 7,
   "id": "f009ffa7-ea73-4e8c-b8b6-cdfa655506e5",
   "metadata": {},
   "outputs": [],
   "source": [
    "xx = int(x)"
   ]
  },
  {
   "cell_type": "code",
   "execution_count": 8,
   "id": "4123ea6c-1c53-44fc-ad63-097513590dfc",
   "metadata": {},
   "outputs": [
    {
     "data": {
      "text/plain": [
       "int"
      ]
     },
     "execution_count": 8,
     "metadata": {},
     "output_type": "execute_result"
    }
   ],
   "source": [
    "type(xx)"
   ]
  },
  {
   "cell_type": "code",
   "execution_count": 28,
   "id": "2b0c002e-4949-42cb-a205-0487493494ce",
   "metadata": {},
   "outputs": [
    {
     "name": "stdin",
     "output_type": "stream",
     "text": [
      "What is the number of the floor?  14\n"
     ]
    },
    {
     "name": "stdout",
     "output_type": "stream",
     "text": [
      "US Floor 15\n"
     ]
    }
   ],
   "source": [
    "inp = input(\"What is the number of the floor? \")\n",
    "ufl = int(inp) + 1\n",
    "print(\"US Floor\", ufl)"
   ]
  },
  {
   "cell_type": "code",
   "execution_count": 30,
   "id": "73ff9e72-545d-46ca-825c-3b775ed441c8",
   "metadata": {},
   "outputs": [],
   "source": [
    "# CONDITIONS "
   ]
  },
  {
   "cell_type": "code",
   "execution_count": 32,
   "id": "889af85b-46f2-43e3-9a3f-aeaa427b9717",
   "metadata": {},
   "outputs": [
    {
     "name": "stdout",
     "output_type": "stream",
     "text": [
      "voila\n"
     ]
    }
   ],
   "source": [
    "xx = 10\n",
    "if xx == 10:\n",
    "    print(\"voila\")\n",
    "if xx > 10:\n",
    "    print(\"kazozo\")"
   ]
  },
  {
   "cell_type": "code",
   "execution_count": 34,
   "id": "2948cdf8-9843-4129-b081-8fc9e4e76b5f",
   "metadata": {},
   "outputs": [
    {
     "name": "stdout",
     "output_type": "stream",
     "text": [
      "wewe\n",
      "why\n",
      "sasa\n",
      "twende\n",
      "all is good\n"
     ]
    }
   ],
   "source": [
    "if xx <= 10:\n",
    "    print(\"wewe\")\n",
    "    print(\"why\")\n",
    "    if xx == 10:\n",
    "        print(\"sasa\")\n",
    "        print(\"twende\")\n",
    "else:\n",
    "    print(\"nitakupa\")\n",
    "print(\"all is good\")"
   ]
  },
  {
   "cell_type": "code",
   "execution_count": 36,
   "id": "69ca9e59-6964-4d2c-80ec-10b3029a9395",
   "metadata": {},
   "outputs": [
    {
     "name": "stdout",
     "output_type": "stream",
     "text": [
      "mf\n",
      "I'm done\n"
     ]
    }
   ],
   "source": [
    "if xx > 10:\n",
    "    print(\"wewe\")\n",
    "elif xx == 10:\n",
    "    print(\"mf\")\n",
    "else:\n",
    "    print(\"nothing\")\n",
    "print(\"I'm done\")"
   ]
  },
  {
   "cell_type": "code",
   "execution_count": 43,
   "id": "be8952a5-19ef-4710-9dfd-7d985e773e33",
   "metadata": {},
   "outputs": [
    {
     "name": "stdout",
     "output_type": "stream",
     "text": [
      "5\n",
      "4\n",
      "3\n",
      "2\n",
      "1\n",
      "wow\n"
     ]
    }
   ],
   "source": [
    "n = 5 \n",
    "while n > 0 :\n",
    "    print(n)\n",
    "    n = n -1 \n",
    "print('wow')"
   ]
  },
  {
   "cell_type": "code",
   "execution_count": 45,
   "id": "da3661b6-eb00-4370-b58b-be34dd37f887",
   "metadata": {},
   "outputs": [
    {
     "name": "stdout",
     "output_type": "stream",
     "text": [
      "Happy New Year:  Yoyo\n",
      "Happy New Year:  Yaya\n",
      "Happy New Year:  Yeye\n",
      "Done\n"
     ]
    }
   ],
   "source": [
    "friends = [\"Yoyo\", \"Yaya\", \"Yeye\"]\n",
    "for friend in friends:\n",
    "    print(\"Happy New Year: \", friend)\n",
    "print(\"Done\")"
   ]
  },
  {
   "cell_type": "code",
   "execution_count": null,
   "id": "a0b1647f-5ad9-48ab-af7d-eff8ee3b5934",
   "metadata": {},
   "outputs": [],
   "source": []
  }
 ],
 "metadata": {
  "kernelspec": {
   "display_name": "Python [conda env:base] *",
   "language": "python",
   "name": "conda-base-py"
  },
  "language_info": {
   "codemirror_mode": {
    "name": "ipython",
    "version": 3
   },
   "file_extension": ".py",
   "mimetype": "text/x-python",
   "name": "python",
   "nbconvert_exporter": "python",
   "pygments_lexer": "ipython3",
   "version": "3.12.7"
  }
 },
 "nbformat": 4,
 "nbformat_minor": 5
}
