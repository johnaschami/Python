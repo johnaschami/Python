{
 "cells": [
  {
   "cell_type": "code",
   "execution_count": 1,
   "id": "687a71fd-dd2d-462b-aaa9-f1a785a652c8",
   "metadata": {},
   "outputs": [],
   "source": [
    "# Type of numbers "
   ]
  },
  {
   "cell_type": "code",
   "execution_count": 2,
   "id": "e2bcb2a3-2ea6-4aaf-aec8-33598968124a",
   "metadata": {},
   "outputs": [],
   "source": [
    "x = 15\n",
    "y = 15.14\n",
    "z = \"Tom\""
   ]
  },
  {
   "cell_type": "code",
   "execution_count": 3,
   "id": "153c855e-ef52-4387-bc16-90025b4fd517",
   "metadata": {},
   "outputs": [
    {
     "data": {
      "text/plain": [
       "int"
      ]
     },
     "execution_count": 3,
     "metadata": {},
     "output_type": "execute_result"
    }
   ],
   "source": [
    "type(x)"
   ]
  },
  {
   "cell_type": "code",
   "execution_count": 4,
   "id": "7fdbdffc-e820-45e1-b3bf-012d02464e88",
   "metadata": {},
   "outputs": [
    {
     "data": {
      "text/plain": [
       "float"
      ]
     },
     "execution_count": 4,
     "metadata": {},
     "output_type": "execute_result"
    }
   ],
   "source": [
    "type(y)"
   ]
  },
  {
   "cell_type": "code",
   "execution_count": 5,
   "id": "30cf71b5-32d3-492f-ab3a-dee37c2df36f",
   "metadata": {},
   "outputs": [
    {
     "data": {
      "text/plain": [
       "str"
      ]
     },
     "execution_count": 5,
     "metadata": {},
     "output_type": "execute_result"
    }
   ],
   "source": [
    "type(z)"
   ]
  },
  {
   "cell_type": "code",
   "execution_count": 6,
   "id": "0f1505a7-ce9c-4bb8-8870-386e0bd077da",
   "metadata": {},
   "outputs": [
    {
     "data": {
      "text/plain": [
       "str"
      ]
     },
     "execution_count": 6,
     "metadata": {},
     "output_type": "execute_result"
    }
   ],
   "source": [
    "x = \"15\"\n",
    "type(x)"
   ]
  },
  {
   "cell_type": "code",
   "execution_count": 7,
   "id": "f009ffa7-ea73-4e8c-b8b6-cdfa655506e5",
   "metadata": {},
   "outputs": [],
   "source": [
    "xx = int(x)"
   ]
  },
  {
   "cell_type": "code",
   "execution_count": 8,
   "id": "4123ea6c-1c53-44fc-ad63-097513590dfc",
   "metadata": {},
   "outputs": [
    {
     "data": {
      "text/plain": [
       "int"
      ]
     },
     "execution_count": 8,
     "metadata": {},
     "output_type": "execute_result"
    }
   ],
   "source": [
    "type(xx)"
   ]
  },
  {
   "cell_type": "code",
   "execution_count": 28,
   "id": "2b0c002e-4949-42cb-a205-0487493494ce",
   "metadata": {},
   "outputs": [
    {
     "name": "stdin",
     "output_type": "stream",
     "text": [
      "What is the number of the floor?  14\n"
     ]
    },
    {
     "name": "stdout",
     "output_type": "stream",
     "text": [
      "US Floor 15\n"
     ]
    }
   ],
   "source": [
    "inp = input(\"What is the number of the floor? \")\n",
    "ufl = int(inp) + 1\n",
    "print(\"US Floor\", ufl)"
   ]
  },
  {
   "cell_type": "code",
   "execution_count": 30,
   "id": "73ff9e72-545d-46ca-825c-3b775ed441c8",
   "metadata": {},
   "outputs": [],
   "source": [
    "# CONDITIONS "
   ]
  },
  {
   "cell_type": "code",
   "execution_count": 32,
   "id": "889af85b-46f2-43e3-9a3f-aeaa427b9717",
   "metadata": {},
   "outputs": [
    {
     "name": "stdout",
     "output_type": "stream",
     "text": [
      "voila\n"
     ]
    }
   ],
   "source": [
    "xx = 10\n",
    "if xx == 10:\n",
    "    print(\"voila\")\n",
    "if xx > 10:\n",
    "    print(\"kazozo\")"
   ]
  },
  {
   "cell_type": "code",
   "execution_count": 34,
   "id": "2948cdf8-9843-4129-b081-8fc9e4e76b5f",
   "metadata": {},
   "outputs": [
    {
     "name": "stdout",
     "output_type": "stream",
     "text": [
      "wewe\n",
      "why\n",
      "sasa\n",
      "twende\n",
      "all is good\n"
     ]
    }
   ],
   "source": [
    "if xx <= 10:\n",
    "    print(\"wewe\")\n",
    "    print(\"why\")\n",
    "    if xx == 10:\n",
    "        print(\"sasa\")\n",
    "        print(\"twende\")\n",
    "else:\n",
    "    print(\"nitakupa\")\n",
    "print(\"all is good\")"
   ]
  },
  {
   "cell_type": "code",
   "execution_count": 36,
   "id": "69ca9e59-6964-4d2c-80ec-10b3029a9395",
   "metadata": {},
   "outputs": [
    {
     "name": "stdout",
     "output_type": "stream",
     "text": [
      "mf\n",
      "I'm done\n"
     ]
    }
   ],
   "source": [
    "if xx > 10:\n",
    "    print(\"wewe\")\n",
    "elif xx == 10:\n",
    "    print(\"mf\")\n",
    "else:\n",
    "    print(\"nothing\")\n",
    "print(\"I'm done\")"
   ]
  },
  {
   "cell_type": "code",
   "execution_count": 43,
   "id": "be8952a5-19ef-4710-9dfd-7d985e773e33",
   "metadata": {},
   "outputs": [
    {
     "name": "stdout",
     "output_type": "stream",
     "text": [
      "5\n",
      "4\n",
      "3\n",
      "2\n",
      "1\n",
      "wow\n"
     ]
    }
   ],
   "source": [
    "n = 5 \n",
    "while n > 0 :\n",
    "    print(n)\n",
    "    n = n -1 \n",
    "print('wow')"
   ]
  },
  {
   "cell_type": "code",
   "execution_count": 51,
   "id": "da3661b6-eb00-4370-b58b-be34dd37f887",
   "metadata": {},
   "outputs": [
    {
     "name": "stdout",
     "output_type": "stream",
     "text": [
      "Happy New Year Yoyo\n",
      "Happy New Year Yaya\n",
      "Happy New Year Yeye\n",
      "Done\n"
     ]
    }
   ],
   "source": [
    "friends = [\"Yoyo\", \"Yaya\", \"Yeye\"]\n",
    "for friend in friends:\n",
    "    print(\"Happy New Year\", friend)\n",
    "print(\"Done\")"
   ]
  },
  {
   "cell_type": "code",
   "execution_count": 61,
   "id": "a0b1647f-5ad9-48ab-af7d-eff8ee3b5934",
   "metadata": {},
   "outputs": [
    {
     "name": "stdout",
     "output_type": "stream",
     "text": [
      "Before -1\n",
      "23 23\n",
      "45 45\n",
      "45 34\n",
      "45 11\n",
      "78 78\n",
      "After 78\n"
     ]
    }
   ],
   "source": [
    "# smart loop - finding the largest value \n",
    "\n",
    "largest_so_far = -1 \n",
    "print(\"Before\", largest_so_far)\n",
    "\n",
    "for the_num in [23, 45, 34, 11, 78]:\n",
    "    if the_num > largest_so_far:\n",
    "        largest_so_far = the_num\n",
    "    print(largest_so_far, the_num)\n",
    "\n",
    "print(\"After\", largest_so_far)"
   ]
  },
  {
   "cell_type": "code",
   "execution_count": 55,
   "id": "73d54269-9a98-41d6-b7b3-1fb23ede3a6c",
   "metadata": {},
   "outputs": [
    {
     "name": "stdout",
     "output_type": "stream",
     "text": [
      "Before 0\n",
      "34 34\n",
      "36 2\n",
      "92 56\n",
      "135 43\n",
      "202 67\n",
      "After 202\n"
     ]
    }
   ],
   "source": [
    "# Summing in Loop\n",
    "\n",
    "zork = 0\n",
    "print(\"Before\", zork)\n",
    "for thing in [34, 2, 56, 43, 67]:\n",
    "    zork = zork + thing\n",
    "    print(zork, thing)\n",
    "print(\"After\", zork)"
   ]
  },
  {
   "cell_type": "code",
   "execution_count": 63,
   "id": "2f7327d5-103a-479d-8556-535da8afadf7",
   "metadata": {},
   "outputs": [
    {
     "name": "stdout",
     "output_type": "stream",
     "text": [
      "Before\n",
      "Large number 34\n",
      "Large number 23\n",
      "Large number 56\n",
      "Large number 78\n",
      "After\n"
     ]
    }
   ],
   "source": [
    "# Filtering in a loop ( we use IF statement in the loop to filter)\n",
    "\n",
    "print(\"Before\")\n",
    "for value in [34, 23, 56, 78, 12]:\n",
    "    if value > 20:\n",
    "        print(\"Large number\", value)\n",
    "print(\"After\")"
   ]
  },
  {
   "cell_type": "code",
   "execution_count": 76,
   "id": "68446f9a-e9a1-4553-8fc1-279b6c8d1e4e",
   "metadata": {},
   "outputs": [
    {
     "name": "stdout",
     "output_type": "stream",
     "text": [
      "Before\n",
      "9 9\n",
      "9 43\n",
      "4 4\n",
      "4 23\n",
      "4 67\n",
      "After 4\n"
     ]
    }
   ],
   "source": [
    "# Finding the smallest value\n",
    "\n",
    "smallest = None\n",
    "print(\"Before\")\n",
    "for value in [9, 43, 4, 23, 67]:\n",
    "    if smallest is None:\n",
    "        smallest = value \n",
    "    elif value < smallest:\n",
    "        smallest = value \n",
    "    print(smallest, value)\n",
    "print(\"After\", smallest)"
   ]
  },
  {
   "cell_type": "code",
   "execution_count": 78,
   "id": "3e702b04-36ba-4f8d-a0a6-fc956cc746ab",
   "metadata": {},
   "outputs": [
    {
     "name": "stdin",
     "output_type": "stream",
     "text": [
      "Enter the first number:  10\n",
      "Enter the second number:  5\n",
      "Enter the operation (+, -, *, /):  *\n"
     ]
    },
    {
     "name": "stdout",
     "output_type": "stream",
     "text": [
      "Result: 50.0\n"
     ]
    }
   ],
   "source": [
    "# Step 1: Get user input\n",
    "num1 = float(input(\"Enter the first number: \"))\n",
    "num2 = float(input(\"Enter the second number: \"))\n",
    "operation = input(\"Enter the operation (+, -, *, /): \")\n",
    "\n",
    "# Step 2: Perform the calculation\n",
    "if operation == \"+\":\n",
    "    result = num1 + num2\n",
    "elif operation == \"-\":\n",
    "    result = num1 - num2\n",
    "elif operation == \"*\":\n",
    "    result = num1 * num2\n",
    "elif operation == \"/\":\n",
    "    if num2 != 0:\n",
    "        result = num1 / num2\n",
    "    else:\n",
    "        result = \"Error: Cannot divide by zero\"\n",
    "else:\n",
    "    result = \"Invalid operator\"\n",
    "\n",
    "# Step 3: Display the result\n",
    "print(\"Result:\", result)"
   ]
  },
  {
   "cell_type": "code",
   "execution_count": null,
   "id": "a73e7d05-930d-4801-8cac-be4c85b85c91",
   "metadata": {},
   "outputs": [],
   "source": []
  }
 ],
 "metadata": {
  "kernelspec": {
   "display_name": "Python [conda env:base] *",
   "language": "python",
   "name": "conda-base-py"
  },
  "language_info": {
   "codemirror_mode": {
    "name": "ipython",
    "version": 3
   },
   "file_extension": ".py",
   "mimetype": "text/x-python",
   "name": "python",
   "nbconvert_exporter": "python",
   "pygments_lexer": "ipython3",
   "version": "3.12.7"
  }
 },
 "nbformat": 4,
 "nbformat_minor": 5
}
