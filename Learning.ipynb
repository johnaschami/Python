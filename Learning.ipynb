{
 "cells": [
  {
   "cell_type": "code",
   "execution_count": 19,
   "id": "687a71fd-dd2d-462b-aaa9-f1a785a652c8",
   "metadata": {},
   "outputs": [],
   "source": [
    "# Type of numbers "
   ]
  },
  {
   "cell_type": "code",
   "execution_count": 25,
   "id": "e2bcb2a3-2ea6-4aaf-aec8-33598968124a",
   "metadata": {},
   "outputs": [],
   "source": [
    "x = 15\n",
    "y = 15.14\n",
    "z = \"Tom\""
   ]
  },
  {
   "cell_type": "code",
   "execution_count": 27,
   "id": "153c855e-ef52-4387-bc16-90025b4fd517",
   "metadata": {},
   "outputs": [
    {
     "data": {
      "text/plain": [
       "int"
      ]
     },
     "execution_count": 27,
     "metadata": {},
     "output_type": "execute_result"
    }
   ],
   "source": [
    "type(x)"
   ]
  },
  {
   "cell_type": "code",
   "execution_count": 29,
   "id": "7fdbdffc-e820-45e1-b3bf-012d02464e88",
   "metadata": {},
   "outputs": [
    {
     "data": {
      "text/plain": [
       "float"
      ]
     },
     "execution_count": 29,
     "metadata": {},
     "output_type": "execute_result"
    }
   ],
   "source": [
    "type(y)"
   ]
  },
  {
   "cell_type": "code",
   "execution_count": 31,
   "id": "30cf71b5-32d3-492f-ab3a-dee37c2df36f",
   "metadata": {},
   "outputs": [
    {
     "data": {
      "text/plain": [
       "str"
      ]
     },
     "execution_count": 31,
     "metadata": {},
     "output_type": "execute_result"
    }
   ],
   "source": [
    "type(z)"
   ]
  },
  {
   "cell_type": "code",
   "execution_count": 35,
   "id": "0f1505a7-ce9c-4bb8-8870-386e0bd077da",
   "metadata": {},
   "outputs": [
    {
     "data": {
      "text/plain": [
       "str"
      ]
     },
     "execution_count": 35,
     "metadata": {},
     "output_type": "execute_result"
    }
   ],
   "source": [
    "x = \"15\"\n",
    "type(x)"
   ]
  },
  {
   "cell_type": "code",
   "execution_count": 37,
   "id": "f009ffa7-ea73-4e8c-b8b6-cdfa655506e5",
   "metadata": {},
   "outputs": [],
   "source": [
    "xx = int(x)"
   ]
  },
  {
   "cell_type": "code",
   "execution_count": 39,
   "id": "4123ea6c-1c53-44fc-ad63-097513590dfc",
   "metadata": {},
   "outputs": [
    {
     "data": {
      "text/plain": [
       "int"
      ]
     },
     "execution_count": 39,
     "metadata": {},
     "output_type": "execute_result"
    }
   ],
   "source": [
    "type(xx)"
   ]
  },
  {
   "cell_type": "code",
   "execution_count": 47,
   "id": "2b0c002e-4949-42cb-a205-0487493494ce",
   "metadata": {},
   "outputs": [
    {
     "name": "stdin",
     "output_type": "stream",
     "text": [
      "What is the number of the floor?  1\n"
     ]
    },
    {
     "name": "stdout",
     "output_type": "stream",
     "text": [
      "US Floor 2\n"
     ]
    }
   ],
   "source": [
    "inp = input(\"What is the number of the floor? \")\n",
    "ufl = int(inp) + 1\n",
    "print(\"US Floor\", ufl)"
   ]
  },
  {
   "cell_type": "code",
   "execution_count": null,
   "id": "73ff9e72-545d-46ca-825c-3b775ed441c8",
   "metadata": {},
   "outputs": [],
   "source": []
  },
  {
   "cell_type": "code",
   "execution_count": null,
   "id": "889af85b-46f2-43e3-9a3f-aeaa427b9717",
   "metadata": {},
   "outputs": [],
   "source": []
  },
  {
   "cell_type": "code",
   "execution_count": null,
   "id": "2948cdf8-9843-4129-b081-8fc9e4e76b5f",
   "metadata": {},
   "outputs": [],
   "source": []
  },
  {
   "cell_type": "code",
   "execution_count": null,
   "id": "69ca9e59-6964-4d2c-80ec-10b3029a9395",
   "metadata": {},
   "outputs": [],
   "source": []
  }
 ],
 "metadata": {
  "kernelspec": {
   "display_name": "Python [conda env:base] *",
   "language": "python",
   "name": "conda-base-py"
  },
  "language_info": {
   "codemirror_mode": {
    "name": "ipython",
    "version": 3
   },
   "file_extension": ".py",
   "mimetype": "text/x-python",
   "name": "python",
   "nbconvert_exporter": "python",
   "pygments_lexer": "ipython3",
   "version": "3.12.7"
  }
 },
 "nbformat": 4,
 "nbformat_minor": 5
}
