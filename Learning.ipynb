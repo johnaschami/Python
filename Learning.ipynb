{
 "cells": [
  {
   "cell_type": "code",
   "execution_count": 1,
   "id": "687a71fd-dd2d-462b-aaa9-f1a785a652c8",
   "metadata": {},
   "outputs": [],
   "source": [
    "# Type of numbers "
   ]
  },
  {
   "cell_type": "code",
   "execution_count": 3,
   "id": "e2bcb2a3-2ea6-4aaf-aec8-33598968124a",
   "metadata": {},
   "outputs": [],
   "source": [
    "xx = 14 \n",
    "yy = 7"
   ]
  },
  {
   "cell_type": "code",
   "execution_count": 5,
   "id": "153c855e-ef52-4387-bc16-90025b4fd517",
   "metadata": {},
   "outputs": [
    {
     "name": "stdout",
     "output_type": "stream",
     "text": [
      "14\n"
     ]
    }
   ],
   "source": [
    "print(xx)"
   ]
  },
  {
   "cell_type": "code",
   "execution_count": 7,
   "id": "7fdbdffc-e820-45e1-b3bf-012d02464e88",
   "metadata": {},
   "outputs": [
    {
     "data": {
      "text/plain": [
       "int"
      ]
     },
     "execution_count": 7,
     "metadata": {},
     "output_type": "execute_result"
    }
   ],
   "source": [
    "type(xx)"
   ]
  },
  {
   "cell_type": "code",
   "execution_count": 9,
   "id": "30cf71b5-32d3-492f-ab3a-dee37c2df36f",
   "metadata": {},
   "outputs": [],
   "source": [
    "xx = 20"
   ]
  },
  {
   "cell_type": "code",
   "execution_count": 11,
   "id": "0f1505a7-ce9c-4bb8-8870-386e0bd077da",
   "metadata": {},
   "outputs": [
    {
     "name": "stdout",
     "output_type": "stream",
     "text": [
      "20\n"
     ]
    }
   ],
   "source": [
    "print(xx)"
   ]
  },
  {
   "cell_type": "code",
   "execution_count": 17,
   "id": "f009ffa7-ea73-4e8c-b8b6-cdfa655506e5",
   "metadata": {},
   "outputs": [
    {
     "name": "stdout",
     "output_type": "stream",
     "text": [
      "\"Hakuna\" \n",
      " \"Matata\" \n",
      " \"AI\"\n"
     ]
    }
   ],
   "source": [
    "print('\"Hakuna\" \\n \"Matata\" \\n \"AI\"')"
   ]
  },
  {
   "cell_type": "code",
   "execution_count": 23,
   "id": "4123ea6c-1c53-44fc-ad63-097513590dfc",
   "metadata": {},
   "outputs": [],
   "source": [
    "phrase = \"HakunaMatata AI\""
   ]
  },
  {
   "cell_type": "code",
   "execution_count": 31,
   "id": "2b0c002e-4949-42cb-a205-0487493494ce",
   "metadata": {},
   "outputs": [
    {
     "name": "stdout",
     "output_type": "stream",
     "text": [
      "HAKUNAMATATA AI\n",
      "hakunamatata ai\n"
     ]
    },
    {
     "data": {
      "text/plain": [
       "True"
      ]
     },
     "execution_count": 31,
     "metadata": {},
     "output_type": "execute_result"
    }
   ],
   "source": [
    "print(phrase.upper())\n",
    "print(phrase.lower())\n",
    "phrase.upper().isupper()"
   ]
  },
  {
   "cell_type": "code",
   "execution_count": 37,
   "id": "66abfb45-422b-42ee-b60e-ed360e572fd4",
   "metadata": {},
   "outputs": [
    {
     "name": "stdout",
     "output_type": "stream",
     "text": [
      "13\n",
      "HakunaMatata LAB\n"
     ]
    }
   ],
   "source": [
    "print(phrase.index(\"AI\"))\n",
    "print(phrase.replace(\"AI\", \"LAB\"))"
   ]
  },
  {
   "cell_type": "code",
   "execution_count": 30,
   "id": "73ff9e72-545d-46ca-825c-3b775ed441c8",
   "metadata": {},
   "outputs": [],
   "source": [
    "# CONDITIONS "
   ]
  },
  {
   "cell_type": "code",
   "execution_count": 32,
   "id": "889af85b-46f2-43e3-9a3f-aeaa427b9717",
   "metadata": {},
   "outputs": [
    {
     "name": "stdout",
     "output_type": "stream",
     "text": [
      "voila\n"
     ]
    }
   ],
   "source": [
    "xx = 10\n",
    "if xx == 10:\n",
    "    print(\"voila\")\n",
    "if xx > 10:\n",
    "    print(\"kazozo\")"
   ]
  },
  {
   "cell_type": "code",
   "execution_count": 34,
   "id": "2948cdf8-9843-4129-b081-8fc9e4e76b5f",
   "metadata": {},
   "outputs": [
    {
     "name": "stdout",
     "output_type": "stream",
     "text": [
      "wewe\n",
      "why\n",
      "sasa\n",
      "twende\n",
      "all is good\n"
     ]
    }
   ],
   "source": [
    "if xx <= 10:\n",
    "    print(\"wewe\")\n",
    "    print(\"why\")\n",
    "    if xx == 10:\n",
    "        print(\"sasa\")\n",
    "        print(\"twende\")\n",
    "else:\n",
    "    print(\"nitakupa\")\n",
    "print(\"all is good\")"
   ]
  },
  {
   "cell_type": "code",
   "execution_count": 36,
   "id": "69ca9e59-6964-4d2c-80ec-10b3029a9395",
   "metadata": {},
   "outputs": [
    {
     "name": "stdout",
     "output_type": "stream",
     "text": [
      "mf\n",
      "I'm done\n"
     ]
    }
   ],
   "source": [
    "if xx > 10:\n",
    "    print(\"wewe\")\n",
    "elif xx == 10:\n",
    "    print(\"mf\")\n",
    "else:\n",
    "    print(\"nothing\")\n",
    "print(\"I'm done\")"
   ]
  },
  {
   "cell_type": "code",
   "execution_count": 43,
   "id": "be8952a5-19ef-4710-9dfd-7d985e773e33",
   "metadata": {},
   "outputs": [
    {
     "name": "stdout",
     "output_type": "stream",
     "text": [
      "5\n",
      "4\n",
      "3\n",
      "2\n",
      "1\n",
      "wow\n"
     ]
    }
   ],
   "source": [
    "n = 5 \n",
    "while n > 0 :\n",
    "    print(n)\n",
    "    n = n -1 \n",
    "print('wow')"
   ]
  },
  {
   "cell_type": "code",
   "execution_count": 51,
   "id": "da3661b6-eb00-4370-b58b-be34dd37f887",
   "metadata": {},
   "outputs": [
    {
     "name": "stdout",
     "output_type": "stream",
     "text": [
      "Happy New Year Yoyo\n",
      "Happy New Year Yaya\n",
      "Happy New Year Yeye\n",
      "Done\n"
     ]
    }
   ],
   "source": [
    "friends = [\"Yoyo\", \"Yaya\", \"Yeye\"]\n",
    "for friend in friends:\n",
    "    print(\"Happy New Year\", friend)\n",
    "print(\"Done\")"
   ]
  },
  {
   "cell_type": "code",
   "execution_count": 61,
   "id": "a0b1647f-5ad9-48ab-af7d-eff8ee3b5934",
   "metadata": {},
   "outputs": [
    {
     "name": "stdout",
     "output_type": "stream",
     "text": [
      "Before -1\n",
      "23 23\n",
      "45 45\n",
      "45 34\n",
      "45 11\n",
      "78 78\n",
      "After 78\n"
     ]
    }
   ],
   "source": [
    "# smart loop - finding the largest value \n",
    "\n",
    "largest_so_far = -1 \n",
    "print(\"Before\", largest_so_far)\n",
    "\n",
    "for the_num in [23, 45, 34, 11, 78]:\n",
    "    if the_num > largest_so_far:\n",
    "        largest_so_far = the_num\n",
    "    print(largest_so_far, the_num)\n",
    "\n",
    "print(\"After\", largest_so_far)"
   ]
  },
  {
   "cell_type": "code",
   "execution_count": 55,
   "id": "73d54269-9a98-41d6-b7b3-1fb23ede3a6c",
   "metadata": {},
   "outputs": [
    {
     "name": "stdout",
     "output_type": "stream",
     "text": [
      "Before 0\n",
      "34 34\n",
      "36 2\n",
      "92 56\n",
      "135 43\n",
      "202 67\n",
      "After 202\n"
     ]
    }
   ],
   "source": [
    "# Summing in Loop\n",
    "\n",
    "zork = 0\n",
    "print(\"Before\", zork)\n",
    "for thing in [34, 2, 56, 43, 67]:\n",
    "    zork = zork + thing\n",
    "    print(zork, thing)\n",
    "print(\"After\", zork)"
   ]
  },
  {
   "cell_type": "code",
   "execution_count": 63,
   "id": "2f7327d5-103a-479d-8556-535da8afadf7",
   "metadata": {},
   "outputs": [
    {
     "name": "stdout",
     "output_type": "stream",
     "text": [
      "Before\n",
      "Large number 34\n",
      "Large number 23\n",
      "Large number 56\n",
      "Large number 78\n",
      "After\n"
     ]
    }
   ],
   "source": [
    "# Filtering in a loop ( we use IF statement in the loop to filter)\n",
    "\n",
    "print(\"Before\")\n",
    "for value in [34, 23, 56, 78, 12]:\n",
    "    if value > 20:\n",
    "        print(\"Large number\", value)\n",
    "print(\"After\")"
   ]
  },
  {
   "cell_type": "code",
   "execution_count": 76,
   "id": "68446f9a-e9a1-4553-8fc1-279b6c8d1e4e",
   "metadata": {},
   "outputs": [
    {
     "name": "stdout",
     "output_type": "stream",
     "text": [
      "Before\n",
      "9 9\n",
      "9 43\n",
      "4 4\n",
      "4 23\n",
      "4 67\n",
      "After 4\n"
     ]
    }
   ],
   "source": [
    "# Finding the smallest value\n",
    "\n",
    "smallest = None\n",
    "print(\"Before\")\n",
    "for value in [9, 43, 4, 23, 67]:\n",
    "    if smallest is None:\n",
    "        smallest = value \n",
    "    elif value < smallest:\n",
    "        smallest = value \n",
    "    print(smallest, value)\n",
    "print(\"After\", smallest)"
   ]
  },
  {
   "cell_type": "code",
   "execution_count": 78,
   "id": "3e702b04-36ba-4f8d-a0a6-fc956cc746ab",
   "metadata": {},
   "outputs": [
    {
     "name": "stdin",
     "output_type": "stream",
     "text": [
      "Enter the first number:  10\n",
      "Enter the second number:  5\n",
      "Enter the operation (+, -, *, /):  *\n"
     ]
    },
    {
     "name": "stdout",
     "output_type": "stream",
     "text": [
      "Result: 50.0\n"
     ]
    }
   ],
   "source": [
    "# Step 1: Get user input\n",
    "num1 = float(input(\"Enter the first number: \"))\n",
    "num2 = float(input(\"Enter the second number: \"))\n",
    "operation = input(\"Enter the operation (+, -, *, /): \")\n",
    "\n",
    "# Step 2: Perform the calculation\n",
    "if operation == \"+\":\n",
    "    result = num1 + num2\n",
    "elif operation == \"-\":\n",
    "    result = num1 - num2\n",
    "elif operation == \"*\":\n",
    "    result = num1 * num2\n",
    "elif operation == \"/\":\n",
    "    if num2 != 0:\n",
    "        result = num1 / num2\n",
    "    else:\n",
    "        result = \"Error: Cannot divide by zero\"\n",
    "else:\n",
    "    result = \"Invalid operator\"\n",
    "\n",
    "# Step 3: Display the result\n",
    "print(\"Result:\", result)"
   ]
  },
  {
   "cell_type": "code",
   "execution_count": 39,
   "id": "a73e7d05-930d-4801-8cac-be4c85b85c91",
   "metadata": {},
   "outputs": [],
   "source": [
    "# 3.  Basic Password Strength Checker (Medium)\n",
    "# Write a program to: Take a password as input. Check if it’s strong by meeting these conditions: 1. At least 8 characters. 2. Contains both uppercase and lowercase letters. 3. Contains at least one number. And use conditional statements to give feedback (e.g., “Weak password: no numbers”)."
   ]
  },
  {
   "cell_type": "code",
   "execution_count": 47,
   "id": "8c46e56c-04f3-44fa-af5a-b463a483cdda",
   "metadata": {},
   "outputs": [
    {
     "name": "stdin",
     "output_type": "stream",
     "text": [
      "Enter your new password:  wewe\n"
     ]
    },
    {
     "ename": "TypeError",
     "evalue": "'<' not supported between instances of 'str' and 'int'",
     "output_type": "error",
     "traceback": [
      "\u001b[1;31m---------------------------------------------------------------------------\u001b[0m",
      "\u001b[1;31mTypeError\u001b[0m                                 Traceback (most recent call last)",
      "Cell \u001b[1;32mIn[47], line 3\u001b[0m\n\u001b[0;32m      1\u001b[0m password \u001b[38;5;241m=\u001b[39m \u001b[38;5;28minput\u001b[39m(\u001b[38;5;124m\"\u001b[39m\u001b[38;5;124mEnter your new password: \u001b[39m\u001b[38;5;124m\"\u001b[39m)\n\u001b[1;32m----> 3\u001b[0m \u001b[38;5;28;01mif\u001b[39;00m password \u001b[38;5;241m<\u001b[39m \u001b[38;5;28mlen\u001b[39m(password):\n\u001b[0;32m      4\u001b[0m     result \u001b[38;5;241m=\u001b[39m \u001b[38;5;124m\"\u001b[39m\u001b[38;5;124mMust contain at least 8 characters\u001b[39m\u001b[38;5;124m\"\u001b[39m\n\u001b[0;32m      7\u001b[0m \u001b[38;5;28mprint\u001b[39m(result)\n",
      "\u001b[1;31mTypeError\u001b[0m: '<' not supported between instances of 'str' and 'int'"
     ]
    }
   ],
   "source": [
    "password = input(\"Enter your new password: \")\n",
    "\n",
    "if password < len(password):\n",
    "    result = \"Must contain at least 8 characters\"\n",
    "\n",
    "\n",
    "print(result)"
   ]
  },
  {
   "cell_type": "code",
   "execution_count": 5,
   "id": "fc017195-c10e-414a-a476-18f89b6f30a5",
   "metadata": {},
   "outputs": [
    {
     "name": "stdout",
     "output_type": "stream",
     "text": [
      "a\n",
      "a\n"
     ]
    }
   ],
   "source": [
    "# STRINGS\n",
    "# Looking inside strings \n",
    "\n",
    "fruit = \"banana\"\n",
    "letter = fruit[1]\n",
    "print(letter)\n",
    "\n",
    "w = 3\n",
    "x = fruit[6 - w]\n",
    "print(x)"
   ]
  },
  {
   "cell_type": "code",
   "execution_count": 9,
   "id": "fed6c32e-408d-47ec-91f9-ad78be30a3e6",
   "metadata": {},
   "outputs": [
    {
     "name": "stdout",
     "output_type": "stream",
     "text": [
      "6\n"
     ]
    }
   ],
   "source": [
    "fruit = \"banana\"\n",
    "xx = len(fruit)\n",
    "print(xx)"
   ]
  },
  {
   "cell_type": "code",
   "execution_count": 11,
   "id": "1136b89a-e6e3-4a0d-bb97-d65ff4dcbf19",
   "metadata": {},
   "outputs": [
    {
     "name": "stdout",
     "output_type": "stream",
     "text": [
      "Mont\n"
     ]
    }
   ],
   "source": [
    "s = \"Monty Python\"\n",
    "print(s[0:4])"
   ]
  },
  {
   "cell_type": "code",
   "execution_count": 13,
   "id": "09c8de14-258f-43ae-9375-7c672cff2239",
   "metadata": {},
   "outputs": [
    {
     "name": "stdout",
     "output_type": "stream",
     "text": [
      "t\n"
     ]
    }
   ],
   "source": [
    "s = \"Monty Python\"\n",
    "print(s[3:4])"
   ]
  },
  {
   "cell_type": "code",
   "execution_count": 17,
   "id": "88d9a7a3-d568-40d1-b2d7-adc41d8ed232",
   "metadata": {},
   "outputs": [
    {
     "name": "stdout",
     "output_type": "stream",
     "text": [
      "I love mangoes\n"
     ]
    }
   ],
   "source": [
    "fruit = \"mango\"\n",
    "\"o\" in fruit\n",
    "\n",
    "if \"o\" in fruit:\n",
    "    print(\"I love mangoes\")"
   ]
  },
  {
   "cell_type": "code",
   "execution_count": 19,
   "id": "9dfcdaba-ce35-456d-bff0-6b23a296ced6",
   "metadata": {},
   "outputs": [],
   "source": [
    "a = \"Johnas\""
   ]
  },
  {
   "cell_type": "code",
   "execution_count": 27,
   "id": "2e9b507e-bcbf-4779-9c6b-44f91e069ca2",
   "metadata": {},
   "outputs": [
    {
     "data": {
      "text/plain": [
       "str"
      ]
     },
     "execution_count": 27,
     "metadata": {},
     "output_type": "execute_result"
    }
   ],
   "source": [
    "type(a)"
   ]
  },
  {
   "cell_type": "code",
   "execution_count": 29,
   "id": "5b1cc9d9-ee2d-447a-a1b0-a35ecd72db59",
   "metadata": {},
   "outputs": [
    {
     "data": {
      "text/plain": [
       "['__add__',\n",
       " '__class__',\n",
       " '__contains__',\n",
       " '__delattr__',\n",
       " '__dir__',\n",
       " '__doc__',\n",
       " '__eq__',\n",
       " '__format__',\n",
       " '__ge__',\n",
       " '__getattribute__',\n",
       " '__getitem__',\n",
       " '__getnewargs__',\n",
       " '__getstate__',\n",
       " '__gt__',\n",
       " '__hash__',\n",
       " '__init__',\n",
       " '__init_subclass__',\n",
       " '__iter__',\n",
       " '__le__',\n",
       " '__len__',\n",
       " '__lt__',\n",
       " '__mod__',\n",
       " '__mul__',\n",
       " '__ne__',\n",
       " '__new__',\n",
       " '__reduce__',\n",
       " '__reduce_ex__',\n",
       " '__repr__',\n",
       " '__rmod__',\n",
       " '__rmul__',\n",
       " '__setattr__',\n",
       " '__sizeof__',\n",
       " '__str__',\n",
       " '__subclasshook__',\n",
       " 'capitalize',\n",
       " 'casefold',\n",
       " 'center',\n",
       " 'count',\n",
       " 'encode',\n",
       " 'endswith',\n",
       " 'expandtabs',\n",
       " 'find',\n",
       " 'format',\n",
       " 'format_map',\n",
       " 'index',\n",
       " 'isalnum',\n",
       " 'isalpha',\n",
       " 'isascii',\n",
       " 'isdecimal',\n",
       " 'isdigit',\n",
       " 'isidentifier',\n",
       " 'islower',\n",
       " 'isnumeric',\n",
       " 'isprintable',\n",
       " 'isspace',\n",
       " 'istitle',\n",
       " 'isupper',\n",
       " 'join',\n",
       " 'ljust',\n",
       " 'lower',\n",
       " 'lstrip',\n",
       " 'maketrans',\n",
       " 'partition',\n",
       " 'removeprefix',\n",
       " 'removesuffix',\n",
       " 'replace',\n",
       " 'rfind',\n",
       " 'rindex',\n",
       " 'rjust',\n",
       " 'rpartition',\n",
       " 'rsplit',\n",
       " 'rstrip',\n",
       " 'split',\n",
       " 'splitlines',\n",
       " 'startswith',\n",
       " 'strip',\n",
       " 'swapcase',\n",
       " 'title',\n",
       " 'translate',\n",
       " 'upper',\n",
       " 'zfill']"
      ]
     },
     "execution_count": 29,
     "metadata": {},
     "output_type": "execute_result"
    }
   ],
   "source": [
    "dir(a)"
   ]
  },
  {
   "cell_type": "code",
   "execution_count": 31,
   "id": "812f9b81-8cb7-4cfe-856e-5c695c9a11cb",
   "metadata": {},
   "outputs": [
    {
     "name": "stdout",
     "output_type": "stream",
     "text": [
      "2\n"
     ]
    }
   ],
   "source": [
    "fruit = \"kiwi\"\n",
    "pos = fruit.find(\"wi\")\n",
    "print(pos)"
   ]
  },
  {
   "cell_type": "code",
   "execution_count": 43,
   "id": "90c4da8a-3de0-41fd-84ba-8de8702e9bce",
   "metadata": {},
   "outputs": [
    {
     "name": "stdout",
     "output_type": "stream",
     "text": [
      "22\n",
      "32\n",
      "Alias email is: alias_email\n"
     ]
    }
   ],
   "source": [
    "data = \"From stephen.marquarde@uct.ac.za Sat Jan 5 09:16:14 2009\"\n",
    "apos = data.find(\"@\")\n",
    "print(apos)\n",
    "\n",
    "dpos = data.find(\" \", apos)\n",
    "print(dpos)\n",
    "\n",
    "alias_email = data[apos+1 : dpos]\n",
    "print(\"Alias email is:\", alias_email)"
   ]
  },
  {
   "cell_type": "code",
   "execution_count": null,
   "id": "10362d96-07ce-403e-860a-dafe2175227a",
   "metadata": {},
   "outputs": [],
   "source": []
  }
 ],
 "metadata": {
  "kernelspec": {
   "display_name": "Python [conda env:base] *",
   "language": "python",
   "name": "conda-base-py"
  },
  "language_info": {
   "codemirror_mode": {
    "name": "ipython",
    "version": 3
   },
   "file_extension": ".py",
   "mimetype": "text/x-python",
   "name": "python",
   "nbconvert_exporter": "python",
   "pygments_lexer": "ipython3",
   "version": "3.12.7"
  }
 },
 "nbformat": 4,
 "nbformat_minor": 5
}
