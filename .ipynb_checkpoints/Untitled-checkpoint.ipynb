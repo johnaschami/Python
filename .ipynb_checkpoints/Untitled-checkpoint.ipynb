{
 "cells": [
  {
   "cell_type": "code",
   "execution_count": 1,
   "id": "415e71ac-80fb-42d4-b3fc-595243e5fcc8",
   "metadata": {},
   "outputs": [
    {
     "name": "stdout",
     "output_type": "stream",
     "text": [
      "You are beatiful\n"
     ]
    }
   ],
   "source": [
    "dodo = 200\n",
    "\n",
    "if dodo >= 100:\n",
    "    print(\"You are beatiful\")\n",
    "else:\n",
    "    print(\"Nada\")"
   ]
  },
  {
   "cell_type": "code",
   "execution_count": null,
   "id": "156ce413-dfbd-429e-9d2e-5dc268bda177",
   "metadata": {},
   "outputs": [],
   "source": [
    "n = 5 \n",
    "\n",
    "while n > 0 :\n",
    "    print(n)\n",
    "    n = n -1 \n",
    "print('wow')"
   ]
  }
 ],
 "metadata": {
  "kernelspec": {
   "display_name": "Python [conda env:base] *",
   "language": "python",
   "name": "conda-base-py"
  },
  "language_info": {
   "codemirror_mode": {
    "name": "ipython",
    "version": 3
   },
   "file_extension": ".py",
   "mimetype": "text/x-python",
   "name": "python",
   "nbconvert_exporter": "python",
   "pygments_lexer": "ipython3",
   "version": "3.12.7"
  }
 },
 "nbformat": 4,
 "nbformat_minor": 5
}
