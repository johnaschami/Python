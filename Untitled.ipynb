{
 "cells": [
  {
   "cell_type": "code",
   "execution_count": 1,
   "id": "ccacc09e-dfa5-424f-b3fc-94cdabf428f4",
   "metadata": {},
   "outputs": [],
   "source": [
    "dodo = \"She is a lovely woman\""
   ]
  },
  {
   "cell_type": "code",
   "execution_count": 3,
   "id": "9eeb68ab-71f2-418e-8c1d-05224966f03a",
   "metadata": {},
   "outputs": [
    {
     "data": {
      "text/plain": [
       "'She is a lovely woman'"
      ]
     },
     "execution_count": 3,
     "metadata": {},
     "output_type": "execute_result"
    }
   ],
   "source": [
    "dodo"
   ]
  },
  {
   "cell_type": "code",
   "execution_count": 5,
   "id": "f8f0a775-2690-4597-b83e-7cfd22c04e61",
   "metadata": {},
   "outputs": [
    {
     "name": "stdout",
     "output_type": "stream",
     "text": [
      "She is a lovely woman\n"
     ]
    }
   ],
   "source": [
    "print(dodo)"
   ]
  },
  {
   "cell_type": "code",
   "execution_count": 11,
   "id": "d536c737-6073-4726-bbf0-e9679176f619",
   "metadata": {},
   "outputs": [
    {
     "name": "stdout",
     "output_type": "stream",
     "text": [
      "dodo \n",
      "dodo\n"
     ]
    }
   ],
   "source": [
    "print(\"dodo \\ndodo\")"
   ]
  },
  {
   "cell_type": "code",
   "execution_count": 15,
   "id": "07265cce-58ea-498a-8b24-7f457f9b912a",
   "metadata": {},
   "outputs": [
    {
     "name": "stdout",
     "output_type": "stream",
     "text": [
      "dodo \" dodo\n"
     ]
    }
   ],
   "source": [
    "print(\"dodo \\\" dodo\")"
   ]
  },
  {
   "cell_type": "code",
   "execution_count": 17,
   "id": "5a75ae5d-b266-453a-9b53-46008d7218be",
   "metadata": {},
   "outputs": [
    {
     "name": "stdout",
     "output_type": "stream",
     "text": [
      "HakunaMatata\"Lab\n"
     ]
    }
   ],
   "source": [
    "print(\"HakunaMatata\\\"Lab\")"
   ]
  },
  {
   "cell_type": "code",
   "execution_count": 33,
   "id": "91cf5d87-a943-411f-8f37-b1a41c901e52",
   "metadata": {},
   "outputs": [
    {
     "name": "stdout",
     "output_type": "stream",
     "text": [
      "True\n"
     ]
    }
   ],
   "source": [
    "print(dodo.upper().isupper())"
   ]
  },
  {
   "cell_type": "code",
   "execution_count": 35,
   "id": "765e2a95-d48d-4b86-b371-8bdc96921c1d",
   "metadata": {},
   "outputs": [
    {
     "name": "stdout",
     "output_type": "stream",
     "text": [
      "she is a lovely woman\n"
     ]
    }
   ],
   "source": [
    "print(dodo.lower())"
   ]
  },
  {
   "cell_type": "code",
   "execution_count": 37,
   "id": "3420a147-52c6-4877-b919-31fdf2f144eb",
   "metadata": {},
   "outputs": [
    {
     "name": "stdout",
     "output_type": "stream",
     "text": [
      "21\n"
     ]
    }
   ],
   "source": [
    "print(len(dodo))"
   ]
  },
  {
   "cell_type": "code",
   "execution_count": 39,
   "id": "e17920e8-ac14-4dba-9f5a-3bcc7f5e1fb9",
   "metadata": {},
   "outputs": [
    {
     "name": "stdout",
     "output_type": "stream",
     "text": [
      "ely woman\n"
     ]
    }
   ],
   "source": [
    "print(dodo[12:])"
   ]
  },
  {
   "cell_type": "code",
   "execution_count": 41,
   "id": "3b8a2928-03bb-4ca2-8b5f-ffa0820db061",
   "metadata": {},
   "outputs": [
    {
     "name": "stdout",
     "output_type": "stream",
     "text": [
      "9\n"
     ]
    }
   ],
   "source": [
    "print(dodo.index(\"lovely\"))"
   ]
  },
  {
   "cell_type": "code",
   "execution_count": 81,
   "id": "4d70af77-5c6d-4f00-96ad-e7ce81efb9a0",
   "metadata": {},
   "outputs": [
    {
     "name": "stdout",
     "output_type": "stream",
     "text": [
      "She is a incredible woman\n"
     ]
    }
   ],
   "source": [
    "print(dodo.replace(\"lovely\", \"incredible\"))"
   ]
  },
  {
   "cell_type": "code",
   "execution_count": 83,
   "id": "78efbcf7-7a42-4bf2-ae24-503109953a91",
   "metadata": {},
   "outputs": [
    {
     "name": "stdout",
     "output_type": "stream",
     "text": [
      "90\n"
     ]
    }
   ],
   "source": [
    "dumb_question = 9 + 9 * 9\n",
    "print(dumb_question)"
   ]
  },
  {
   "cell_type": "code",
   "execution_count": 85,
   "id": "76669bb2-9c18-4efb-bcdd-256dccfe0001",
   "metadata": {},
   "outputs": [
    {
     "data": {
      "text/plain": [
       "int"
      ]
     },
     "execution_count": 85,
     "metadata": {},
     "output_type": "execute_result"
    }
   ],
   "source": [
    "type(dumb_question)"
   ]
  },
  {
   "cell_type": "code",
   "execution_count": 87,
   "id": "daa63a87-bbd0-443a-83ef-8b5ac9c09fe8",
   "metadata": {},
   "outputs": [
    {
     "data": {
      "text/plain": [
       "'90She is a lovely woman'"
      ]
     },
     "execution_count": 87,
     "metadata": {},
     "output_type": "execute_result"
    }
   ],
   "source": [
    "str(dumb_question) + dodo"
   ]
  },
  {
   "cell_type": "code",
   "execution_count": 89,
   "id": "88532c94-4c4c-4102-a379-82ef221a899b",
   "metadata": {},
   "outputs": [
    {
     "data": {
      "text/plain": [
       "'She is a lovely woman'"
      ]
     },
     "execution_count": 89,
     "metadata": {},
     "output_type": "execute_result"
    }
   ],
   "source": [
    "dodo"
   ]
  },
  {
   "cell_type": "code",
   "execution_count": 91,
   "id": "28c40246-7b7b-41b5-9578-e780d0806d95",
   "metadata": {},
   "outputs": [
    {
     "name": "stdout",
     "output_type": "stream",
     "text": [
      "3125\n"
     ]
    }
   ],
   "source": [
    "print(pow(5, 5))"
   ]
  },
  {
   "cell_type": "code",
   "execution_count": 99,
   "id": "ead693cc-065e-4b01-bbde-8ca50831ea39",
   "metadata": {},
   "outputs": [
    {
     "name": "stdout",
     "output_type": "stream",
     "text": [
      "-14\n"
     ]
    }
   ],
   "source": [
    "print(min(14, -14))"
   ]
  },
  {
   "cell_type": "code",
   "execution_count": 105,
   "id": "a824cbbc-b072-4cbd-9267-22f1596ed169",
   "metadata": {},
   "outputs": [
    {
     "name": "stdout",
     "output_type": "stream",
     "text": [
      "3\n"
     ]
    }
   ],
   "source": [
    "print(round(2.9))"
   ]
  },
  {
   "cell_type": "code",
   "execution_count": 113,
   "id": "d61d0dce-3038-428c-801c-ae7c08a96b9b",
   "metadata": {},
   "outputs": [
    {
     "name": "stdin",
     "output_type": "stream",
     "text": [
      "What is your name?  Dodo\n"
     ]
    },
    {
     "name": "stdout",
     "output_type": "stream",
     "text": [
      "Hi Dodo, it was nice meeting you!\n"
     ]
    }
   ],
   "source": [
    "name = input(\"What is your name? \")\n",
    "print(\"Hi \" + name + \",\" + \" it was nice meeting you!\")"
   ]
  },
  {
   "cell_type": "code",
   "execution_count": 115,
   "id": "181a5fc8-244d-4446-af09-791c961d3432",
   "metadata": {},
   "outputs": [],
   "source": [
    "friends = [\"Jerry\", \"Kim\", \"Kah\"]\n",
    "numbers = [234, 566, 567]"
   ]
  },
  {
   "cell_type": "code",
   "execution_count": 117,
   "id": "a53769a4-fe43-4851-84f5-5c83eb6df585",
   "metadata": {},
   "outputs": [
    {
     "data": {
      "text/plain": [
       "'Jerry'"
      ]
     },
     "execution_count": 117,
     "metadata": {},
     "output_type": "execute_result"
    }
   ],
   "source": [
    "friends[0]"
   ]
  },
  {
   "cell_type": "code",
   "execution_count": 123,
   "id": "d435650f-96de-4314-8491-acfe0734ac3a",
   "metadata": {},
   "outputs": [],
   "source": [
    "friends.append(\"Fau\")"
   ]
  },
  {
   "cell_type": "code",
   "execution_count": 125,
   "id": "0b9b8484-8453-4898-a514-6d32fe72b858",
   "metadata": {},
   "outputs": [
    {
     "data": {
      "text/plain": [
       "['Jerry', 'Kim', 'Kah', 'Fau']"
      ]
     },
     "execution_count": 125,
     "metadata": {},
     "output_type": "execute_result"
    }
   ],
   "source": [
    "friends"
   ]
  },
  {
   "cell_type": "code",
   "execution_count": 133,
   "id": "2d28dc61-e69c-41f7-975f-1ba256172d22",
   "metadata": {},
   "outputs": [],
   "source": [
    "friends.extend(numbers)"
   ]
  },
  {
   "cell_type": "code",
   "execution_count": 129,
   "id": "c41c0601-579e-4244-9a99-4c4d37256e82",
   "metadata": {},
   "outputs": [
    {
     "data": {
      "text/plain": [
       "['Jerry', 'Kim', 'Kah', 'Fau', 234, 566, 567]"
      ]
     },
     "execution_count": 129,
     "metadata": {},
     "output_type": "execute_result"
    }
   ],
   "source": [
    "friends"
   ]
  },
  {
   "cell_type": "code",
   "execution_count": 141,
   "id": "d28dd673-4881-4d1d-8b56-aef7cc5235c5",
   "metadata": {},
   "outputs": [
    {
     "ename": "SyntaxError",
     "evalue": "invalid decimal literal (3589462741.py, line 1)",
     "output_type": "error",
     "traceback": [
      "\u001b[1;36m  Cell \u001b[1;32mIn[141], line 1\u001b[1;36m\u001b[0m\n\u001b[1;33m    my_pass = (123Python)\u001b[0m\n\u001b[1;37m                 ^\u001b[0m\n\u001b[1;31mSyntaxError\u001b[0m\u001b[1;31m:\u001b[0m invalid decimal literal\n"
     ]
    }
   ],
   "source": [
    "my_pass = (123Python)"
   ]
  },
  {
   "cell_type": "code",
   "execution_count": 139,
   "id": "e345c3f9-8653-4e0a-87b0-8defc46dd1ce",
   "metadata": {},
   "outputs": [
    {
     "data": {
      "text/plain": [
       "'123Python'"
      ]
     },
     "execution_count": 139,
     "metadata": {},
     "output_type": "execute_result"
    }
   ],
   "source": [
    "my_pass"
   ]
  },
  {
   "cell_type": "code",
   "execution_count": 157,
   "id": "22bfb2e9-7e76-4fb9-b7b7-4155f13b49dd",
   "metadata": {},
   "outputs": [],
   "source": [
    "def say_hi(name, age):\n",
    "    print(\"Hi\" + name, + \" you are \" + age + \" old\")"
   ]
  },
  {
   "cell_type": "code",
   "execution_count": 159,
   "id": "e4f60d7d-4a4d-48d4-be2c-547833c21d9c",
   "metadata": {},
   "outputs": [
    {
     "data": {
      "text/plain": [
       "<function __main__.say_hi(name, age)>"
      ]
     },
     "execution_count": 159,
     "metadata": {},
     "output_type": "execute_result"
    }
   ],
   "source": [
    "say_hi"
   ]
  },
  {
   "cell_type": "code",
   "execution_count": 161,
   "id": "2fa2c4a9-d404-4651-b6a3-6ff94fc20724",
   "metadata": {},
   "outputs": [
    {
     "name": "stdout",
     "output_type": "stream",
     "text": [
      "5\n",
      "4\n",
      "3\n",
      "2\n",
      "1\n",
      "wow\n"
     ]
    }
   ],
   "source": [
    "for i in [5, 4, 3, 2, 1]:\n",
    "    print(i)\n",
    "print('wow')"
   ]
  },
  {
   "cell_type": "code",
   "execution_count": 165,
   "id": "e0ed5dcf-4481-4739-97c3-1bc17b47e490",
   "metadata": {},
   "outputs": [
    {
     "name": "stdout",
     "output_type": "stream",
     "text": [
      "Happy New Year Jerry\n",
      "Happy New Year Kim\n",
      "Happy New Year Kah\n"
     ]
    }
   ],
   "source": [
    "friends = [\"Jerry\", \"Kim\", \"Kah\"]\n",
    "for friend in friends:\n",
    "    print(\"Happy New Year \" + friend)"
   ]
  },
  {
   "cell_type": "code",
   "execution_count": 183,
   "id": "2cb25a95-cfd1-4d91-8ab9-1b785177d9e9",
   "metadata": {},
   "outputs": [
    {
     "name": "stdout",
     "output_type": "stream",
     "text": [
      "12\n",
      "45\n",
      "64\n",
      "78\n",
      "78\n"
     ]
    }
   ],
   "source": [
    "largest_before = 0\n",
    "for num in [12, 45, 64, 78, 34]:\n",
    "    if num > largest_before:\n",
    "        largest_before = num\n",
    "    print(largest_before)\n",
    "    "
   ]
  },
  {
   "cell_type": "code",
   "execution_count": 185,
   "id": "9557e5db-20ee-467b-8e64-d6d9c79f9f0a",
   "metadata": {},
   "outputs": [
    {
     "name": "stdout",
     "output_type": "stream",
     "text": [
      "Before 0\n",
      "1 2\n",
      "2 45\n",
      "3 78\n",
      "4 85\n",
      "5 45\n",
      "After 5\n"
     ]
    }
   ],
   "source": [
    "zork = 0\n",
    "print(\"Before\", zork)\n",
    "for thing in [2, 45, 78, 85, 45]:\n",
    "    zork = zork + 1 \n",
    "    print(zork, thing)\n",
    "print(\"After\", zork)"
   ]
  },
  {
   "cell_type": "code",
   "execution_count": 205,
   "id": "d6da9d1e-5b31-41fb-87fa-95f9e78a2b4b",
   "metadata": {},
   "outputs": [
    {
     "name": "stdout",
     "output_type": "stream",
     "text": [
      "1 23 23\n",
      "2 57 34\n",
      "3 110 53\n",
      "4 137 27\n",
      "Our average will be: 34\n"
     ]
    }
   ],
   "source": [
    "count = 0\n",
    "sum = 0 \n",
    "\n",
    "for thing in [23, 34, 53, 27]:\n",
    "    count = count + 1\n",
    "    sum = sum + thing\n",
    "    print(count, sum, thing)\n",
    "print(\"Our average will be:\", round(sum/count))"
   ]
  },
  {
   "cell_type": "code",
   "execution_count": 203,
   "id": "a5762ae8-5b87-4a75-b6b7-3fda2610bdbf",
   "metadata": {},
   "outputs": [
    {
     "name": "stdout",
     "output_type": "stream",
     "text": [
      "Before 0 0\n",
      "1 34 34\n",
      "2 57 23\n",
      "3 113 56\n",
      "4 125 12\n",
      "5 203 78\n",
      "After 41\n"
     ]
    }
   ],
   "source": [
    "count = 0\n",
    "sum = 0\n",
    "print(\"Before\", count, sum)\n",
    "for value in [34, 23, 56, 12, 78]:\n",
    "    count = count + 1\n",
    "    sum = sum + value\n",
    "    print(count, sum, value)\n",
    "print(\"After\",  round(sum / count))"
   ]
  },
  {
   "cell_type": "code",
   "execution_count": null,
   "id": "82da137b-e2d2-438e-8283-517ef1358a83",
   "metadata": {},
   "outputs": [],
   "source": [
    "smallest = None\n",
    "\n",
    "for thing in [23, 45, 43, 78, 12]:\n",
    "    if smallest"
   ]
  }
 ],
 "metadata": {
  "kernelspec": {
   "display_name": "Python [conda env:base] *",
   "language": "python",
   "name": "conda-base-py"
  },
  "language_info": {
   "codemirror_mode": {
    "name": "ipython",
    "version": 3
   },
   "file_extension": ".py",
   "mimetype": "text/x-python",
   "name": "python",
   "nbconvert_exporter": "python",
   "pygments_lexer": "ipython3",
   "version": "3.12.7"
  }
 },
 "nbformat": 4,
 "nbformat_minor": 5
}
