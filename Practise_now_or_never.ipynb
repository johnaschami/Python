{
 "cells": [
  {
   "cell_type": "code",
   "execution_count": 1,
   "id": "269d0dc8-5c6f-4e72-bf55-8919f03975d1",
   "metadata": {},
   "outputs": [],
   "source": [
    "# 1. Simple Calculator (Easy) \n",
    "# Write a program that: Asks the user to input two numbers and an operation (+, -, *, /). Performs the operation and prints the result. Use conditional statements to handle invalid operators."
   ]
  },
  {
   "cell_type": "code",
   "execution_count": 13,
   "id": "eabf3688-9079-4d76-851a-224f9bdee1a6",
   "metadata": {},
   "outputs": [
    {
     "name": "stdin",
     "output_type": "stream",
     "text": [
      "What is your first number?:  20\n",
      "What is your second number?:  10\n",
      "Select an operation of your choice +, -, *, / ?:  ?\n"
     ]
    },
    {
     "name": "stdout",
     "output_type": "stream",
     "text": [
      "Result: Invalid Operator\n"
     ]
    }
   ],
   "source": [
    "number1 = input(\"What is your first number?: \")\n",
    "number2 = input(\"What is your second number?: \")\n",
    "operation = input(\"Select an operation of your choice +, -, *, / ?: \")\n",
    "\n",
    "new_number1 = float(number1)\n",
    "new_number2 = float(number2)\n",
    "\n",
    "if operation == \"+\":\n",
    "    result = new_number1 + new_number2\n",
    "elif operation == \"-\":\n",
    "    result = new_number1 - new_number2\n",
    "elif operation == \"*\":\n",
    "    result = new_number1 * new_number2\n",
    "elif operation == \"/\":\n",
    "    if new_number2 != 0:\n",
    "        result = new_number1 / new_number2\n",
    "    else:\n",
    "        result = \"Error: Cannot divided by zero\"\n",
    "else:\n",
    "    result = \"Invalid Operator\"\n",
    "\n",
    "print(\"Result:\", result)\n",
    "\n",
    "    \n",
    "\n"
   ]
  },
  {
   "cell_type": "code",
   "execution_count": 27,
   "id": "16f8bdd3-5fca-4a28-ac13-7baaac24dd86",
   "metadata": {},
   "outputs": [
    {
     "name": "stdin",
     "output_type": "stream",
     "text": [
      "what is ur 1st no?:  30\n",
      "what is ur 2nd no?:  0\n",
      "choose btn +, -, *, / ?:  /\n"
     ]
    },
    {
     "name": "stdout",
     "output_type": "stream",
     "text": [
      "Result: Error: You cannot divide by zero\n"
     ]
    }
   ],
   "source": [
    "n1 = float(input(\"what is ur 1st no?: \"))\n",
    "n2 = float(input(\"what is ur 2nd no?: \"))\n",
    "op = input(\"choose btn +, -, *, / ?: \")\n",
    "\n",
    "if op == \"+\":\n",
    "    result = n1 + n2\n",
    "elif op == \"-\":\n",
    "    result = n1 - n2\n",
    "elif op == \"*\":\n",
    "    result = n1 * n2\n",
    "elif op == \"/\":\n",
    "    if n2 == 0:\n",
    "        result = \"Error: You cannot divide by zero\"\n",
    "    else:\n",
    "        result = n1 / n2 \n",
    "else:\n",
    "    result = \"Invalid op\"\n",
    "\n",
    "print(\"Result:\", result)"
   ]
  },
  {
   "cell_type": "code",
   "execution_count": 29,
   "id": "9d3919c0-af57-4b1f-8e8f-610d1f3064c1",
   "metadata": {},
   "outputs": [
    {
     "name": "stdin",
     "output_type": "stream",
     "text": [
      "What is your 1st number?  30\n",
      "What is your 2nd number?  0\n",
      "Choose an operation (+, -, *, /):  /\n"
     ]
    },
    {
     "name": "stdout",
     "output_type": "stream",
     "text": [
      "Error: You cannot divide by zero.\n"
     ]
    }
   ],
   "source": [
    "n1 = float(input(\"What is your 1st number? \"))\n",
    "n2 = float(input(\"What is your 2nd number? \"))\n",
    "op = input(\"Choose an operation (+, -, *, /): \")\n",
    "\n",
    "if op == \"+\":\n",
    "    result = n1 + n2\n",
    "elif op == \"-\":\n",
    "    result = n1 - n2\n",
    "elif op == \"*\":\n",
    "    result = n1 * n2\n",
    "elif op == \"/\":\n",
    "    if n2 == 0:\n",
    "        print(\"Error: You cannot divide by zero.\")\n",
    "        result = None\n",
    "    else:\n",
    "        result = n1 / n2\n",
    "else:\n",
    "    print(\"Invalid operator.\")\n",
    "    result = None\n",
    "\n",
    "if result is not None:\n",
    "    print(\"The result is:\", result)\n"
   ]
  },
  {
   "cell_type": "code",
   "execution_count": null,
   "id": "d59d59d0-7b91-484b-a346-caad29748b14",
   "metadata": {},
   "outputs": [],
   "source": []
  }
 ],
 "metadata": {
  "kernelspec": {
   "display_name": "Python [conda env:base] *",
   "language": "python",
   "name": "conda-base-py"
  },
  "language_info": {
   "codemirror_mode": {
    "name": "ipython",
    "version": 3
   },
   "file_extension": ".py",
   "mimetype": "text/x-python",
   "name": "python",
   "nbconvert_exporter": "python",
   "pygments_lexer": "ipython3",
   "version": "3.12.7"
  }
 },
 "nbformat": 4,
 "nbformat_minor": 5
}
